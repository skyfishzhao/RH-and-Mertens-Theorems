{
 "cells": [
  {
   "cell_type": "code",
   "execution_count": 38,
   "id": "526db511",
   "metadata": {},
   "outputs": [],
   "source": [
    "# The goal is to compute the set of all fundamental discriminants d for which B_{chi_d} < 2 (see (31) in the paper\n",
    "# for the definition).\n",
    "\n",
    "# We use LCALC to calculate the partial sum of the series defining B_{chi_d} over the first N positive zeros and \n",
    "# the first N negative zeros, which are symmetric since chi_d is real.  The two functions below give the upper \n",
    "# and lower bounds for the tail of the series via Lemma 12.\n",
    "\n",
    "def TailUpperBound(d, N):\n",
    "    N_plus_1_zero = lcalc.twist_zeros(N+1, d, d)[d][N];\n",
    "    if N_plus_1_zero > 0.57:\n",
    "        Integral = numerical_integral(2*x*(x*log(abs(d)*x/(2*pi*e))/pi + 0.25 + 0.22737*log(abs(d)*(x+2)/(2*pi)) \n",
    "                            + 2*log(1+log(abs(d)*(x+2)/(2*pi))) - 0.5)/(0.25 + x^2)^2, N_plus_1_zero, +Infinity);\n",
    "        return - 2 * N/(0.25 + N_plus_1_zero^2) + Integral[0]\n",
    "\n",
    "def TailLowerBound(d, N):\n",
    "    N_plus_1_zero = lcalc.twist_zeros(N+1, d, d)[d][N];\n",
    "    if N_plus_1_zero > 0.57:\n",
    "        Integral = numerical_integral(2*x*(x*log(abs(d)*x/(2*pi*e))/pi - 0.25 - 0.22737*log(abs(d)*(x+2)/(2*pi)) \n",
    "                            - 2*log(1+log(abs(d)*(x+2)/(2*pi))) + 0.5)/(0.25+ x^2)^2, N_plus_1_zero, +Infinity);\n",
    "        return - 2 * N/(0.25 + N_plus_1_zero^2) + Integral[0]"
   ]
  },
  {
   "cell_type": "code",
   "execution_count": 39,
   "id": "12099e8c",
   "metadata": {},
   "outputs": [],
   "source": [
    "# Given N, the pair of zeros we include in the partial sum, the following function outputs the list of d's in the \n",
    "# range [start, finish) for which we must have B_{chi_d} < 2 (true), the ones for which we must have B_{chi_d} > 2 \n",
    "# (false), and ones that we are not sure about (not sure), which means we need to increase N for higher precision. \n",
    "\n",
    "def classify_d(N, start, finish):\n",
    "    candidates = lcalc.twist_zeros(N,start,finish);\n",
    "    true_list = [];\n",
    "    false_list = [];\n",
    "    not_sure_list = [];\n",
    "    for d in candidates:\n",
    "        partial_sum = 0;\n",
    "        i = 0;\n",
    "        while i < N:\n",
    "            partial_sum += 2/(0.25 + candidates[d][i]^2);\n",
    "            if partial_sum > 2:\n",
    "                false_list.append(d);\n",
    "                break;\n",
    "            i += 1;\n",
    "        if partial_sum < 2:\n",
    "            U = TailUpperBound(d,N);\n",
    "            L = TailLowerBound(d,N);\n",
    "            if partial_sum < 2 - U:\n",
    "                true_list.append(d);\n",
    "            elif partial_sum <= 2 - L and partial_sum >= 2 - U:       \n",
    "                not_sure_list.append(d);      \n",
    "            elif partial_sum > 2 - L:\n",
    "                false_list.append(d);\n",
    "    print(\"true:\", true_list)\n",
    "    print(\"false:\", false_list)\n",
    "    print(\"not sure:\", not_sure_list)\n",
    "    "
   ]
  },
  {
   "cell_type": "code",
   "execution_count": 40,
   "id": "7dafa39b",
   "metadata": {},
   "outputs": [
    {
     "name": "stdout",
     "output_type": "stream",
     "text": [
      "true: [-20, -19, -15, -11, -8, -7, -4, -3, 5, 8, 12, 13, 17]\n",
      "false: []\n",
      "not sure: []\n"
     ]
    }
   ],
   "source": [
    "classify_d(10,-20,20)"
   ]
  },
  {
   "cell_type": "code",
   "execution_count": 41,
   "id": "eabec4c2",
   "metadata": {},
   "outputs": [
    {
     "name": "stdout",
     "output_type": "stream",
     "text": [
      "true: [201, 204, 205, 209, 217, 220, 229, 232, 233, 241, 249]\n",
      "false: [213, 221, 236, 237, 248]\n",
      "not sure: []\n"
     ]
    }
   ],
   "source": [
    "classify_d(20,200,250)"
   ]
  },
  {
   "cell_type": "code",
   "execution_count": null,
   "id": "6dae11de",
   "metadata": {},
   "outputs": [],
   "source": [
    "# In a longer range of d, most (or all) of the d's are false (i.e., B_{chi_d} > 2), so we can just print the true_list\n",
    "# and the not_sure_list."
   ]
  },
  {
   "cell_type": "code",
   "execution_count": 32,
   "id": "3402a299",
   "metadata": {},
   "outputs": [],
   "source": [
    "# For a given list of d's, the function Calculate_B gives the first few digits of the upper and lower bounds of \n",
    "# B_{chi_d} using the first N zeros.\n",
    "\n",
    "def Square(List):\n",
    "    Sum = 0;\n",
    "    for i in List: \n",
    "        Sum = Sum + 2/(0.25 + i^2);\n",
    "    return Sum\n",
    "\n",
    "def Calculate_B(N, List):    \n",
    "    for d in List:\n",
    "        zeros = lcalc.twist_zeros(N,d,d);\n",
    "        partial_sum = Square(zeros[d]);\n",
    "        U = partial_sum + TailUpperBound(d,N);\n",
    "        L = partial_sum + TailLowerBound(d,N);\n",
    "        \n",
    "        print(\"d:\", d, \"upper bound:\", U, \"lower bound:\", L)"
   ]
  },
  {
   "cell_type": "code",
   "execution_count": 33,
   "id": "ed11b273",
   "metadata": {},
   "outputs": [
    {
     "name": "stdout",
     "output_type": "stream",
     "text": [
      "d: -3 upper: 0.113356228 lower: 0.113088169\n",
      "d: -4 upper: 0.155716083 lower: 0.155402300\n",
      "d: -7 upper: 0.255432504 lower: 0.255017940\n",
      "d: -8 upper: 0.316282809 lower: 0.315840732\n",
      "d: -11 upper: 0.507757024 lower: 0.507243610\n"
     ]
    }
   ],
   "source": [
    "Calculate_B(100,[-3, -4, -7, -8, -11])"
   ]
  }
 ],
 "metadata": {
  "kernelspec": {
   "display_name": "SageMath 10.4",
   "language": "sage",
   "name": "sagemath-10.4"
  },
  "language_info": {
   "codemirror_mode": {
    "name": "ipython",
    "version": 3
   },
   "file_extension": ".py",
   "mimetype": "text/x-python",
   "name": "python",
   "nbconvert_exporter": "python",
   "pygments_lexer": "ipython3",
   "version": "3.12.4"
  }
 },
 "nbformat": 4,
 "nbformat_minor": 5
}
