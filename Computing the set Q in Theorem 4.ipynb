{
 "cells": [
  {
   "cell_type": "code",
   "execution_count": 16,
   "id": "729e4d2c",
   "metadata": {},
   "outputs": [],
   "source": [
    "# The goal is to find the set of all moduli q for which B_q, as defined by (33) in the paper, is less than 2*C(q,1),\n",
    "# where C(q,1) is the number of square roots of 1 mod q.\n",
    "\n",
    "from sage.libs.lcalc.lcalc_Lfunction import Lfunction_from_character\n",
    " \n",
    "# For a given primitive character chi mod q, the two functions below give the upper and lower bounds for the tail \n",
    "# of the defining series of B_{chi} truncated at the Nth zero. (Here B_{chi}=sum_{gamma} (1/4+gamma^2)^{-1}.)\n",
    "\n",
    "def TailUpperBound2(q, N, chi):\n",
    "    L = Lfunction_from_character(chi);\n",
    "    # if chi is real, L.find_zeros_via_N returns only the positive zeros, so we include half of them to account for\n",
    "    # the symmetric, negative zeros.\n",
    "    if chi.multiplicative_order() == 2:\n",
    "        NextZero = abs(L.find_zeros_via_N(N//2+1)[N//2])\n",
    "        if NextZero > 0.57:\n",
    "            Integral = numerical_integral(2*x*(x*log(abs(q)*x/(2*pi*e))/pi + 0.25 + 0.22737*log(abs(q)*(x+2)/(2*pi)) \n",
    "                                               + 2*log(1+log(abs(q)*(x+2)/(2*pi))) - 0.5)/(0.25+ x^2)^2, NextZero, +Infinity);\n",
    "            return -N/(0.25+NextZero^2) + Integral[0]    \n",
    "    else:\n",
    "        NextZero = abs(L.find_zeros_via_N(N+1)[N])\n",
    "        if NextZero > 0.57:\n",
    "            Integral = numerical_integral(x*(x*log(abs(q)*x/(2*pi*e))/pi + 0.25 + 0.22737*log(abs(q)*(x+2)/(2*pi)) \n",
    "                                             + 2*log(1+log(abs(q)*(x+2)/(2*pi))) - 0.5)/(0.25+ x^2)^2, NextZero, +Infinity);\n",
    "            return -N/(0.25+NextZero^2) + Integral[0]\n",
    "\n",
    "\n",
    "def TailLowerBound2(q, N, chi):\n",
    "    L = Lfunction_from_character(chi);\n",
    "    if chi.multiplicative_order() == 2:\n",
    "        NextZero = abs(L.find_zeros_via_N(N//2+1)[N//2])\n",
    "        if NextZero > 0.57:\n",
    "            Integral = numerical_integral(2*x*(x*log(abs(q)*x/(2*pi*e))/pi - 0.25 - 0.22737*log(abs(q)*(x+2)/(2*pi)) \n",
    "                                               - 2*log(1+log(abs(q)*(x+2)/(2*pi))) + 0.5)/(0.25+ x^2)^2, NextZero, +Infinity);\n",
    "            return -N/(0.25 + NextZero^2) + Integral[0]\n",
    "    else:\n",
    "        NextZero=abs(L.find_zeros_via_N(N+1)[N])\n",
    "        if NextZero > 0.57:\n",
    "            Integral = 2*numerical_integral(2*x*(x*log(abs(q)*x/(2*pi*e))/pi - 0.25 - 0.22737*log(abs(q)*(x+2)/(2*pi)) \n",
    "                                                 - 2*log(1+log(abs(q)*(x+2)/(2*pi))) + 0.5)/(0.25+ x^2)^2, NextZero, +Infinity);\n",
    "            return -N/(0.25 + NextZero^2) + Integral[0]"
   ]
  },
  {
   "cell_type": "code",
   "execution_count": 39,
   "id": "7ca6cfe3",
   "metadata": {},
   "outputs": [],
   "source": [
    "# The following functions computes C(q,1) for a given q.\n",
    "def C(q):\n",
    "    factors = list(factor(q));\n",
    "    if is_odd(q) or factors[0][1] == 2:\n",
    "        return 2^(len(factors));\n",
    "    elif factors[0][1] >= 3:\n",
    "        return 2^(len(factors) + 1);\n",
    "    else:\n",
    "        return 2^(len(factors) - 1);\n",
    "\n",
    "def square(List):\n",
    "    Sum = 0;\n",
    "    for i in List: \n",
    "        Sum = Sum + 1/(0.25 + i^2);\n",
    "    return Sum\n",
    "\n",
    "# Given a list of candidates of moduli q, the following function outputs those \"true\" q's for which we must have \n",
    "# B_{q} < 2*C(q,1) by calculating the partial sum over the first N zeros and estimating the tail by the previous \n",
    "# two functions. If N is not large enough to tell whether B_{q} < 2*C(q,1), it outputs \"not sure.\"\n",
    "\n",
    "def check(N, candidates):\n",
    "    true_list = [];\n",
    "    not_sure_list = [];\n",
    "    for q in candidates:\n",
    "        i = 1;\n",
    "        SumUpper = 0.046191; # The sum for the principal character mod q\n",
    "        SumLower = 0.046191;\n",
    "        n = euler_phi(q) - 1; # The number of non-principal characters mod q\n",
    "        C_q = C(q);\n",
    "        while i <= n:\n",
    "            chi = DirichletGroup(q)[i].primitive_character(); # The primitive character inducing the i^th character.\n",
    "            c = chi.conductor();\n",
    "            TailUpper = TailUpperBound2(c, N, chi);\n",
    "            TailLower = TailLowerBound2(c, N, chi);\n",
    "            L = Lfunction_from_character(chi);\n",
    "            if chi.multiplicative_order() == 2: # if chi is real\n",
    "                SumUpper += 2 * square(L.find_zeros_via_N(N//2)) + TailUpper # Max possible value of B_chi\n",
    "                SumLower += 2 * square(L.find_zeros_via_N(N//2)) - TailLower # Min possible value of B_chi\n",
    "            else:\n",
    "                SumUpper += square(L.find_zeros_via_N(N)) + TailUpper\n",
    "                SumLower += square(L.find_zeros_via_N(N)) - TailLower\n",
    "            if SumLower > 2 * C_q:\n",
    "                break\n",
    "            i += 1;           \n",
    "        if SumUpper < 2 * C_q:\n",
    "            true_list.append(q);\n",
    "        elif SumLower < 2 * C_q and SumUpper >= 2 * C_q:    \n",
    "            not_sure_list.append(q)          \n",
    "      \n",
    "    print(\"true:\", true_list, \"notsure:\", not_sure_list)"
   ]
  },
  {
   "cell_type": "code",
   "execution_count": 50,
   "id": "1a60f080",
   "metadata": {},
   "outputs": [],
   "source": [
    "# This function calculates n(q), the number of primitive characters mod q\n",
    "def n(q):\n",
    "    number = q;\n",
    "    factors = list(factor(q));\n",
    "    for p in factors:\n",
    "        if p[1] == 1:\n",
    "            number *= 1 - 2/p[0];\n",
    "        else:\n",
    "            number *= (1 - 1/p[0])^2;\n",
    "    return number   "
   ]
  },
  {
   "cell_type": "code",
   "execution_count": 52,
   "id": "b7af532d",
   "metadata": {},
   "outputs": [
    {
     "name": "stdout",
     "output_type": "stream",
     "text": [
      "true: [5, 7, 8, 9, 12, 15, 16, 20, 21, 24, 28, 36, 40, 48, 60] notsure: [120]\n"
     ]
    }
   ],
   "source": [
    "# Computing the list of candidates of q mentioned in section 7.\n",
    "candidates = [];\n",
    "for q in range(5, 2041):\n",
    "    integral = numerical_integral(2*x*(x*log(abs(q)*x/(2*pi*e))/pi - 0.25 - 0.22737*log(abs(q)*(x+2)/(2*pi)) \n",
    "                                       - 2*log(1+log(abs(q)*(x+2)/(2*pi))) + 0.5)/(0.25+ x^2)^2, 4, +Infinity);\n",
    "    if mod(q,4) != 2 and n(q) * integral[0] <= 2 * C(q):\n",
    "        candidates.append(q);\n",
    "\n",
    "check(250, candidates)"
   ]
  },
  {
   "cell_type": "code",
   "execution_count": 59,
   "id": "3c7a6364",
   "metadata": {},
   "outputs": [
    {
     "name": "stdout",
     "output_type": "stream",
     "text": [
      "true: [] notsure: []\n"
     ]
    }
   ],
   "source": [
    "check(700, [120])"
   ]
  },
  {
   "cell_type": "code",
   "execution_count": null,
   "id": "66453df1",
   "metadata": {},
   "outputs": [],
   "source": [
    "# To obtain the complete list of Q in Theorem 4, we also have to add q = 2, 3, 4 and those q that are 2 mod 4 \n",
    "# such that q/2 belongs to the list output above."
   ]
  }
 ],
 "metadata": {
  "kernelspec": {
   "display_name": "SageMath 10.4",
   "language": "sage",
   "name": "sagemath-10.4"
  },
  "language_info": {
   "codemirror_mode": {
    "name": "ipython",
    "version": 3
   },
   "file_extension": ".py",
   "mimetype": "text/x-python",
   "name": "python",
   "nbconvert_exporter": "python",
   "pygments_lexer": "ipython3",
   "version": "3.12.4"
  }
 },
 "nbformat": 4,
 "nbformat_minor": 5
}
